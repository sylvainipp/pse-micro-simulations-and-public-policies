{
 "cells": [
  {
   "cell_type": "markdown",
   "metadata": {},
   "source": [
    "# Microsimulation of public policies -- Exam : In-work benefit\n",
    "\n",
    "#### Professors: Brice Fabre and Sylvain Duchesne\n",
    "\n",
    "You work as an economist at the Hipeepee Institute, in the country of\n",
    "Peehesseeland. Your job consists in producing *ex ante* evaluations of\n",
    "fiscal reforms in this country. We are in elections period, and several\n",
    "proposals are made by different parties regarding the tax and benefit\n",
    "system, and you have to provide to the public debate elements related to\n",
    "these proposals. Your model cover households taxation, which means taxes\n",
    "\"administratively\" paid by households. You are working on the year 2022."
   ]
  },
  {
   "cell_type": "code",
   "execution_count": 2,
   "metadata": {},
   "outputs": [],
   "source": [
    " #!pip install OpenFisca-PPDLand==0.4.0"
   ]
  },
  {
   "cell_type": "code",
   "execution_count": null,
   "metadata": {},
   "outputs": [],
   "source": [
    "import matplotlib.pyplot as plt  # For graphics\n",
    "%matplotlib inline\n",
    "\n",
    "import inspect\n",
    "import numpy as np  # linear algebra and math\n",
    "import pandas as pd  # data frames_\n",
    "import logging\n",
    "logging.disable(logging.CRITICAL)\n",
    "\n",
    "from ppdland import CountryTaxBenefitSystem as PSELandTaxBenefitSystem\n",
    "from ppdland.scenarios import PPDLandSurveyScenario as PSELandSurveyScenario\n",
    "from ppdland.scenarios import  init_single_entity\n",
    "from ppdland.data import create_input_dataframe\n",
    "\n",
    "from openfisca_core.model_api import max_\n",
    "from openfisca_core.rates import marginal_rate\n",
    "\n",
    "from openfisca_core.model_api import *\n",
    "from ppdland.entities import Individu\n",
    "\n",
    "\n",
    "%config Completer.use_jedi = False"
   ]
  },
  {
   "cell_type": "markdown",
   "metadata": {},
   "source": [
    "\n",
    "\n",
    "## Part 1: explore the current system\n",
    "\n",
    "You anticipate that you will have to make soon evaluations in small\n",
    "windows of time. In order to be operational at the right moment, you\n",
    "decide to refresh your memory on what the current system looks like. You\n",
    "will notice regarding the database that a given household can have\n",
    "maximum three kinds of income: labour income, pensions and capital income.\n",
    "\n",
    "### 1.1.  What are the main components of the existing tax and benefit system?\n"
   ]
  },
  {
   "cell_type": "code",
   "execution_count": null,
   "metadata": {},
   "outputs": [],
   "source": [
    "tax_benefit_system = PSELandTaxBenefitSystem()\n",
    "TODO"
   ]
  },
  {
   "cell_type": "code",
   "execution_count": null,
   "metadata": {},
   "outputs": [],
   "source": [
    "for variable_name in variables:\n",
    "    TODO\n",
    "    try:\n",
    "        print(variable.name, \":\", variable.label)\n",
    "        TODO\n",
    "    except Exception:\n",
    "        # No formula\n",
    "        pass\n",
    "        "
   ]
  },
  {
   "cell_type": "markdown",
   "metadata": {},
   "source": [
    "\n",
    "### 1.2.  Display the features of the existing income tax (tax base, tax schedule).\n"
   ]
  },
  {
   "cell_type": "code",
   "execution_count": null,
   "metadata": {},
   "outputs": [],
   "source": [
    "from ppdland.variables import variables\n",
    "TODO"
   ]
  },
  {
   "cell_type": "code",
   "execution_count": null,
   "metadata": {},
   "outputs": [],
   "source": [
    "print(TODO.tax_scale)"
   ]
  },
  {
   "cell_type": "markdown",
   "metadata": {},
   "source": [
    "\n",
    "### 1.3.  Represent the budget constraint: draw the net disposable income by pre-tax income for a wage earner. Display also the first bisector.\n"
   ]
  },
  {
   "cell_type": "code",
   "execution_count": null,
   "metadata": {},
   "outputs": [],
   "source": [
    "scenario = PSELandTaxBenefitSystem().new_scenario()\n",
    "scenario = init_single_entity(\n",
    "    scenario,\n",
    "    parent1 = {},\n",
    "    period = '2022',\n",
    "    axes = [[\n",
    "        {\n",
    "            'count': 100,\n",
    "            'min': 0,\n",
    "            'max': 15000,\n",
    "            'name': 'labour_income',\n",
    "            }\n",
    "        ]],\n",
    "    )\n",
    "simulation = TODO\n",
    "TODO\n",
    "plt.plot(TODO, label = 'disposable_income')\n",
    "plt.plot(TODO, label = 'first bisector')\n",
    "plt.xlabel('labour_income')\n",
    "plt.legend()"
   ]
  },
  {
   "cell_type": "markdown",
   "metadata": {},
   "source": [
    "\n",
    "### 1.4.  Compute the labour force participation rate.\n"
   ]
  },
  {
   "cell_type": "code",
   "execution_count": null,
   "metadata": {},
   "outputs": [],
   "source": [
    "input_data_frame = create_input_dataframe()\n",
    "scenario = PSELandSurveyScenario(\n",
    "    data = dict(input_data_frame = input_data_frame), \n",
    "    tax_benefit_system = PSELandTaxBenefitSystem(),\n",
    "    period = 2022,\n",
    "    )\n"
   ]
  },
  {
   "cell_type": "code",
   "execution_count": null,
   "metadata": {},
   "outputs": [],
   "source": [
    "participation_rate = (\n",
    "    TODO\n",
    "        )\n",
    "print('Participation rate = {} %'.format(100 * participation_rate))"
   ]
  },
  {
   "cell_type": "markdown",
   "metadata": {},
   "source": [
    "\n",
    "### 1.5.  Compute and represent graphically the mean disposable income by decile of pre-tax income.\n"
   ]
  },
  {
   "cell_type": "code",
   "execution_count": null,
   "metadata": {},
   "outputs": [],
   "source": [
    "TODO"
   ]
  },
  {
   "cell_type": "markdown",
   "metadata": {},
   "source": [
    "\n",
    "## Part 2: creating a new in-work benefit\n",
    "\n",
    "The elections get close, and the economic context tends to recession. To\n",
    "boost the economy, the government announces its willingness to make a\n",
    "policy toward workers. It promises to create, in case of reelection,\n",
    "a lump-sum transfer to every worker, in other word a transfer of amount B=30 to every people with positive labour income. This transfer will be funded by a new flat tax of rate t, applied on any income.\n",
    "\n",
    "### 2.1.  Compute the cost of the transfer\n",
    "\n",
    "Compute the cost of this transfer, using the dataset provided, assuming for the moment a zero flat tax rate.\n"
   ]
  },
  {
   "cell_type": "code",
   "execution_count": null,
   "metadata": {},
   "outputs": [],
   "source": [
    "AMOUNT_BENEFIT = 30\n",
    "RATE_FLAT_TAX = 0\n",
    "def work_benefit_reform(amount_benefit = AMOUNT_BENEFIT, rate_flat_tax = RATE_FLAT_TAX):    \n",
    "    tax_benefit_system = PSELandTaxBenefitSystem()\n",
    "\n",
    "    class work_benefit(Variable):\n",
    "        definition_period = YEAR\n",
    "        label = \"In-work benefit\"\n",
    "        entity = Individu\n",
    "        value_type = float\n",
    "        \n",
    "        def formula(individu, period, parameters, amount_benefit = amount_benefit):\n",
    "            TODO\n",
    "\n",
    "    class flat_tax(Variable):\n",
    "        definition_period = YEAR\n",
    "        label = \"flat_tax\"\n",
    "        entity = Individu\n",
    "        value_type = float\n",
    "        \n",
    "        def formula(individu, period, parameters, rate_flat_tax = rate_flat_tax):\n",
    "            TODO\n",
    "\n",
    "    class total_tax(Variable):\n",
    "        definition_period = YEAR\n",
    "        label = \"total tax\"\n",
    "        entity = Individu\n",
    "        value_type = float\n",
    "        \n",
    "        def formula(individu, period):\n",
    "            TODO\n",
    "\n",
    "    class disposable_income(Variable) :  \n",
    "        definition_period = YEAR\n",
    "        label = \"Disposable income\"\n",
    "        entity = Individu\n",
    "        value_type = float\n",
    "        \n",
    "        def formula(individu, period):\n",
    "           TODO\n",
    "\n",
    "    class reformed_tbs(Reform):\n",
    "        name = f\"Adding a work_benefit\"\n",
    "        def apply(self):\n",
    "            TODO\n",
    "\n",
    "\n",
    "    return reformed_tbs(tax_benefit_system)"
   ]
  },
  {
   "cell_type": "code",
   "execution_count": null,
   "metadata": {},
   "outputs": [],
   "source": [
    "def cost(amount_benefit = TODO, rate_flat_tax = TODO):\n",
    "    reformed_tax_benefit_system = TODO\n",
    "    scenario = PSELandSurveyScenario(\n",
    "        data = dict(input_data_frame = input_data_frame), \n",
    "        tax_benefit_system = TODO,\n",
    "        baseline_tax_benefit_system = TODO,\n",
    "        period = 2022,\n",
    "        )\n",
    "\n",
    "    amount = TODO\n",
    "    return amount / 1e6\n",
    "\n",
    "cost_before_flat_tax = TODO\n",
    "cost_before_flat_tax\n"
   ]
  },
  {
   "cell_type": "markdown",
   "metadata": {},
   "source": [
    "\n",
    "### 2.2.  Compute the flat tax rate necessary to fund this transfer.\n",
    "\n"
   ]
  },
  {
   "cell_type": "code",
   "execution_count": null,
   "metadata": {},
   "outputs": [],
   "source": [
    "def remaining_cost(TODO):\n",
    "    return TODO\n",
    "from scipy.optimize import fsolve\n",
    "budget_balancing_rate = TODO"
   ]
  },
  {
   "cell_type": "markdown",
   "metadata": {},
   "source": [
    "\n",
    "At this stage, you have now all the needed parameters to simulate the reform. For all following questions, we keep these parameters.\n",
    "\n",
    "### 2.3.  Compute the redistributive effects of the reform (transfer + flat_tax).\n",
    "\n",
    "Draw a graph showing the mean variation in disposable income by decile of pre-reform pre-tax income.\n"
   ]
  },
  {
   "cell_type": "code",
   "execution_count": null,
   "metadata": {},
   "outputs": [],
   "source": [
    "scenario = PSELandSurveyScenario(\n",
    "    data = dict(input_data_frame = input_data_frame), \n",
    "    tax_benefit_system = TODO,\n",
    "    baseline_tax_benefit_system = TODO,\n",
    "    period = 2022,\n",
    "    )\n",
    "\n",
    "TODO"
   ]
  },
  {
   "cell_type": "markdown",
   "metadata": {},
   "source": [
    "\n",
    "### 2.4.  Interpret the results\n",
    "\n",
    "\n",
    "### 2.5.  Your boss asks you whether this figure is the only way to represent the redistributive effects of this reform. \n",
    "    \n",
    "What would you answer her/him about other potential representations, the underlying\n",
    "trade-off between these different possibilities, and information you\n",
    "would need to draw such alternative representations?\n",
    "\n",
    "\n",
    "## Part 3: Take into account potential intensive margin effects\n",
    "\n",
    "Now, your boss comes back and tells you that you need to take into account potential intensive margin effects that some economists from Peehesseeland pointed out in the public debate. You read in the Peehesseeland Economic Review, a top-5 journal in the country, that economists have estimated the elasticity of labour supply along the intensive margin at 0.2. Reminder: this elasticity is the variation in percentage of hours of work when the marginal net of tax rate (i.e. 1 - marginal tax rate) increases by 1%. Here, we implicitly assume that hourly wage is constant for a given individual, so that the variation in % of hours of work is equal to the variation in % of total wage.\n",
    "\n",
    "### 3.1. 1.\tExplain in plain English in which direction behavioural responses in this setting will go.\n",
    "\n",
    "\n",
    "### 3.2.  2.\tCompute the cost of the whole reform (transfer + flat tax) after taking into account these behavioural responses.\n"
   ]
  },
  {
   "cell_type": "code",
   "execution_count": null,
   "metadata": {},
   "outputs": [],
   "source": [
    "def labour_response(rate_flat_tax):    \n",
    "    tax_benefit_system = work_benefit_reform(rate_flat_tax = budget_balancing_rate)\n",
    "\n",
    "    class initial_marginal_net_of_tax_rate(Variable):         \n",
    "        definition_period = YEAR\n",
    "        entity = Individu\n",
    "        value_type = float\n",
    "\n",
    "        def formula(individu, period, parameters):\n",
    "            dividends = individu('dividends', period)\n",
    "            labour_income = individu('labour_income', period)\n",
    "            pension = individu('pension', period)\n",
    "            taxable_income = labour_income + pension + dividends\n",
    "            tax_scale = parameters(period).tax_scale\n",
    "            delta = 1\n",
    "            initial_marginal_net_of_tax_rate = TODO\n",
    "            return initial_marginal_net_of_tax_rate\n",
    "\n",
    "    class delta_marginal_net_of_tax_rate(Variable):         \n",
    "        definition_period = YEAR\n",
    "        entity = Individu\n",
    "        value_type = float\n",
    "\n",
    "        def formula(individu, period, parameters):\n",
    "            initial_marginal_net_of_tax_rate = individu(\"initial_marginal_net_of_tax_rate\", period)\n",
    "            final_marginal_net_of_tax_rate = TODO\n",
    "            return TODO\n",
    "        \n",
    "    class adjusted_labour(Variable):         \n",
    "        definition_period = YEAR\n",
    "        entity = Individu\n",
    "        value_type = float\n",
    "        \n",
    "        def formula_2022(individu, period):\n",
    "            labour_income = individu('labour_income', period)\n",
    "            delta_marginal_net_of_tax_rate = individu('delta_marginal_net_of_tax_rate', period)\n",
    "            initial_marginal_net_of_tax_rate = individu('initial_marginal_net_of_tax_rate', period)\n",
    "            elasticity = .2\n",
    "            adjusted_labour = TODO\n",
    "            return adjusted_labour \n",
    "\n",
    "    class income_tax(Variable):         \n",
    "        definition_period = YEAR\n",
    "        entity = Individu\n",
    "        value_type = float\n",
    "    \n",
    "        def formula_2022(individu, period, parameters):\n",
    "            aTODO\n",
    "                \n",
    "    class disposable_income(Variable):\n",
    "        definition_period = YEAR\n",
    "        entity = Individu\n",
    "        value_type = float\n",
    "        \n",
    "        def formula_2022(individu, period):\n",
    "            TODO\n",
    "        \n",
    "    class reformed_tbs(Reform):\n",
    "        name = \"Reformed tax benefit system\"\n",
    "        \n",
    "        def apply(self):\n",
    "            TODO\n",
    "            \n",
    "    return reformed_tbs(tax_benefit_system)"
   ]
  },
  {
   "cell_type": "code",
   "execution_count": null,
   "metadata": {},
   "outputs": [],
   "source": [
    "def cost(rate_flat_tax):\n",
    "    rate_flat_tax = float(rate_flat_tax)\n",
    "    scenario = PSELandSurveyScenario(\n",
    "        data = dict(input_data_frame = input_data_frame), \n",
    "        tax_benefit_system = TODO,\n",
    "        baseline_tax_benefit_system = PSELandTaxBenefitSystem(),\n",
    "        period = 2022,\n",
    "        )\n",
    "\n",
    "    amount =\n",
    "        TODO\n",
    "    return amount / 1e6\n",
    "\n",
    "cost(rate_flat_tax = budget_balancing_rate)\n"
   ]
  },
  {
   "cell_type": "markdown",
   "metadata": {},
   "source": [
    "### 3.3.  Compute the variation in % in the mass of wages due to these behavioural responses"
   ]
  },
  {
   "cell_type": "code",
   "execution_count": null,
   "metadata": {},
   "outputs": [],
   "source": [
    "reformed_tax_benefit_system = TODO\n",
    "scenario = PSELandSurveyScenario(\n",
    "    data = dict(input_data_frame = input_data_frame), \n",
    "    tax_benefit_system = reformed_tax_benefit_system,\n",
    "    baseline_tax_benefit_system = TODO,\n",
    "    period = 2022,\n",
    "    )\n",
    "\n",
    "labour_variation = TODO\n",
    "\n",
    "print(f\"Labour variation = {labour_variation * 100} %\") "
   ]
  },
  {
   "cell_type": "markdown",
   "metadata": {},
   "source": [
    "\n",
    "### 3.4.  Compute the redistributive effects of the reform.\n",
    "\n",
    "Draw a graph showing the mean variation in disposable income by decile of\n",
    "pre-reform pre-tax income.\n"
   ]
  },
  {
   "cell_type": "code",
   "execution_count": null,
   "metadata": {},
   "outputs": [],
   "source": [
    "reformed_tax_benefit_system = TODO\n",
    "\n",
    "scenario = PSELandSurveyScenario(\n",
    "    data = dict(input_data_frame = input_data_frame), \n",
    "    tax_benefit_system = reformed_tax_benefit_system,\n",
    "    baseline_tax_benefit_system = PSELandTaxBenefitSystem(),\n",
    "    period = 2022,\n",
    "    )\n",
    "\n",
    "TODO"
   ]
  },
  {
   "cell_type": "markdown",
   "metadata": {},
   "source": [
    "\n",
    "### 3.5.  Which criticism could we make to this representation?\n",
    "\n",
    "\n",
    "### 3.6.  Comment all these results.\n",
    "\n",
    "## Part 4: labour supply behavioural responses along the extensive margin\n",
    "\n",
    "After a better reading of the famous Peepeedeelanish Economic Review, you and your boss realize that most recent papers focus on the extensive margin rather that the intensive margin. Then, you decide to change your strategy and to focus on this dimension. Now, you assume that individuals behave only along this extensive margin, and no longer along the intensive one. You assume that each individual has two choices: either not to work, or to work and to earn her ``potential wage''.\n",
    "You follow these recent papers and rely on a value of the elasticity of 0.4. Reminder:\n",
    "this elasticity is equal to the variation in % (not in percentage point) of the probability to work when the difference of disposable income between working and not working increases by 1%.\n",
    "For simplicity, we assume that the initial probability to work is the same for all individuals and equal to the share of workers in the labour force.\n",
    "\n",
    "\n",
    "### 4.1.  Explain in plain English in which direction behavioural responses will go.\n",
    "\n",
    "\n",
    "### 4.2.\tCompute the cost of the whole reform (transfer + flat tax) after taking into account these behavioural responses.\n"
   ]
  },
  {
   "cell_type": "code",
   "execution_count": null,
   "metadata": {},
   "outputs": [],
   "source": [
    "def labour_income_extensive_margin_response(flat_tax_rate):\n",
    "    tax_benefit_system = work_benefit_reform(rate_flat_tax = budget_balancing_rate)\n",
    "    class disposable_income_participation_variation(Variable):         \n",
    "        definition_period = YEAR\n",
    "        entity = Individu\n",
    "        value_type = float\n",
    "\n",
    "        def formula(individu, period, parameters):\n",
    "            # If an individual starts working, she is supposed to earn her potential salary \n",
    "            # it is nonzero only for potential and actual wage earners\n",
    "            # salary is nonzero only for actual wage earners\n",
    "            potential_wage = individu('potential_wage', period)\n",
    "            dividends = individu('dividends', period)\n",
    "            \n",
    "            def compute_total_income_tax(income):\n",
    "                TODO\n",
    "\n",
    "            disposable_income_if_participation = where(\n",
    "                potential_wage > 0,\n",
    "                TODO,\n",
    "                0\n",
    "                )\n",
    "            disposable_income_if_not_participation = where(\n",
    "                potential_wage > 0,\n",
    "                TODO,\n",
    "                0\n",
    "                )\n",
    "            return TODO\n",
    "        \n",
    "    class participation_adjusted_salary(Variable):\n",
    "        definition_period = YEAR\n",
    "        entity = Individu\n",
    "        value_type = float\n",
    "        \n",
    "        def formula_2020(individu, period, parameters):\n",
    "            np.random.seed(seed = 42)\n",
    "            labour_income = individu('labour_income', period)\n",
    "            potential_wage = individu('potential_wage', period)\n",
    "            dividends = individu('dividends', period)\n",
    "            \n",
    "            disposable_income_participation_variation = individu('disposable_income_participation_variation', period)\n",
    "            pre_reform_disposable_income_participation_variation = where(\n",
    "                potential_wage > 0,\n",
    "                TODO,\n",
    "                0\n",
    "                )\n",
    "            eta = .4\n",
    "            delta_DIPV_over_DIPV = where(\n",
    "                potential_wage > 0,\n",
    "                TODO,\n",
    "                0,\n",
    "                )\n",
    "            initial_participation_probability = sum(labour_income > 0) / sum(potential_wage > 0)\n",
    "            delta_participation_probability = eta * TODO\n",
    "            new_participation_probability = initial_participation_probability + delta_participation_probability\n",
    "            probability_still_in_work_among_initial_workers = TODO\n",
    "            still_in_work = (\n",
    "                (labour_income > 0)\n",
    "                * (np.random.uniform(size = len(labour_income)) < TODO)\n",
    "                )\n",
    "            print(\"Share of initial workers still working: \", sum(still_in_work) / sum(labour_income > 0))\n",
    "\n",
    "            probability_newly_employed = TODO\n",
    "            newly_employed = (\n",
    "                (labour_income == 0) * (potential_wage > 0)\n",
    "                * (np.random.uniform(size = len((labour_income == 0) * (potential_wage > 0))) < TODO)\n",
    "                )\n",
    "            print(\"Share of initial non-participants entering into participation: \", TODO    \n",
    "            print(\"Share of people out of work: \", TODO\n",
    "\n",
    "            \n",
    "            return where(\n",
    "                still_in_work + newly_employed,  # + is or \n",
    "                potential_wage, \n",
    "                0\n",
    "                )\n",
    "\n",
    "    class income_tax(Variable):         \n",
    "        definition_period = YEAR\n",
    "        entity = Individu\n",
    "        value_type = float\n",
    "    \n",
    "        def formula(individu, period, parameters):\n",
    "            TODO\n",
    "                \n",
    "    class disposable_income(Variable):\n",
    "        definition_period = YEAR\n",
    "        entity = Individu\n",
    "        value_type = float\n",
    "        \n",
    "        def formula(individu, period):\n",
    "            TODO\n",
    "        \n",
    "    class reformed_tbs(Reform):\n",
    "        name = \"Reformed tax benefit system\"\n",
    "        \n",
    "        def apply(self):\n",
    "            TODO\n",
    "            \n",
    "    return reformed_tbs(tax_benefit_system)\n",
    "    "
   ]
  },
  {
   "cell_type": "code",
   "execution_count": null,
   "metadata": {},
   "outputs": [],
   "source": [
    "reformed_tax_benefit_system = TODO\n",
    "scenario = PSELandSurveyScenario(\n",
    "    data = dict(input_data_frame = input_data_frame), \n",
    "    tax_benefit_system = TODO,\n",
    "    baseline_tax_benefit_system = TODO,\n",
    "    period = 2022,\n",
    "    )\n",
    "print(scenario.compute_aggregate(\"participation_adjusted_salary\", period = 2022, simulation = 'reform'))\n",
    "print(scenario.compute_aggregate(\"labour_income\", period = 2022, simulation = 'baseline'))\n",
    "\n",
    "labour_income_variation = TODO\n",
    "\n",
    "print(f\"Labour income variation = {labour_income_variation * 100} %\") "
   ]
  },
  {
   "cell_type": "code",
   "execution_count": null,
   "metadata": {},
   "outputs": [],
   "source": [
    "def cost(flat_tax_rate):\n",
    "    flat_tax_rate = float(flat_tax_rate)\n",
    "    reformed_tax_benefit_system = TODO\n",
    "    scenario = PSELandSurveyScenario(\n",
    "        data = dict(input_data_frame = input_data_frame), \n",
    "        tax_benefit_system = TODO,\n",
    "        baseline_tax_benefit_system = TODO,\n",
    "        period = 2022,\n",
    "        )\n",
    "\n",
    "    amount = TODO\n",
    "    return amount / 1e6\n",
    "\n",
    "cost(flat_tax_rate = budget_balancing_rate)\n"
   ]
  },
  {
   "cell_type": "markdown",
   "metadata": {},
   "source": [
    "### 4.3.  Compute the new labour force participation rate.\n",
    "\n"
   ]
  },
  {
   "cell_type": "code",
   "execution_count": null,
   "metadata": {},
   "outputs": [],
   "source": [
    "reformed_tax_benefit_system = TODO\n",
    "scenario = PSELandSurveyScenario(\n",
    "    data = dict(input_data_frame = input_data_frame), \n",
    "    tax_benefit_system = TODO,\n",
    "    baseline_tax_benefit_system = TODO,\n",
    "    period = 2022,\n",
    "    )\n",
    "\n",
    "participation_rate = TODO\n",
    "print('Participation rate = {} %'.format(100 * participation_rate))"
   ]
  },
  {
   "cell_type": "markdown",
   "metadata": {},
   "source": [
    "### 4.4.  Compute the redistributive effects of the reform: draw a graph showing the mean variation in disposable income by decile of pre-reform pre-tax income.\n"
   ]
  },
  {
   "cell_type": "code",
   "execution_count": null,
   "metadata": {},
   "outputs": [],
   "source": [
    "reformed_tax_benefit_system = TODO\n",
    "scenario = PSELandSurveyScenario(\n",
    "    data = dict(input_data_frame = input_data_frame), \n",
    "    tax_benefit_system =TODO,\n",
    "    baseline_tax_benefit_system = PSELandTaxBenefitSystem(),\n",
    "    period = 2022,\n",
    "    )\n",
    "df = scenario.compute_pivot_table(\n",
    "    aggfunc = 'mean', \n",
    "    values = ['disposable_income'], \n",
    "    columns = ['pre_tax_income_decile'],\n",
    "    difference = True,\n",
    "    period = 2022,\n",
    "    baseline_simulation = 'baseline',\n",
    "    simulation = 'reform',\n",
    "    )\n",
    "print(df.transpose())\n",
    "df.transpose().reset_index().plot(x = 'pre_tax_income_decile', kind = 'bar')\n",
    "\n"
   ]
  },
  {
   "cell_type": "markdown",
   "metadata": {},
   "source": [
    "### 4.5.  Comment all these results.\n",
    "\n"
   ]
  },
  {
   "cell_type": "markdown",
   "metadata": {},
   "source": [
    "\n",
    "## Part 5: about the future\n",
    "\n",
    "Your boss says that now, you have to publish all your results,\n",
    "because journalists are getting crazy. However, she/he suggests that you\n",
    "need to have together a meeting to talk about other ways to\n",
    "microsimulate the impacts of reforms of these kinds, in order to\n",
    "anticipate for future work.\n",
    "\n",
    "What would be your suggestions during this meeting?\n",
    "\n",
    "\n"
   ]
  },
  {
   "cell_type": "markdown",
   "metadata": {},
   "source": []
  }
 ],
 "metadata": {
  "interpreter": {
   "hash": "1424e3cee4a6dc1538a478d72f6dc77d7f8ca8fe065e5435ebb050fcea067e58"
  },
  "kernelspec": {
   "display_name": "Python 3 (ipykernel)",
   "language": "python",
   "name": "python3"
  },
  "language_info": {
   "codemirror_mode": {
    "name": "ipython",
    "version": 3
   },
   "file_extension": ".py",
   "mimetype": "text/x-python",
   "name": "python",
   "nbconvert_exporter": "python",
   "pygments_lexer": "ipython3",
   "version": "3.11.0"
  }
 },
 "nbformat": 4,
 "nbformat_minor": 4
}
